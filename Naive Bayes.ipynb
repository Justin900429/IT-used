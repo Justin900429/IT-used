{
 "cells": [
  {
   "cell_type": "markdown",
   "metadata": {},
   "source": [
    "# Naive Bayes"
   ]
  },
  {
   "cell_type": "code",
   "execution_count": 1,
   "metadata": {},
   "outputs": [],
   "source": [
    "import numpy as np\n",
    "from sklearn.datasets import make_multilabel_classification\n",
    "\n",
    "# Make classification\n",
    "X, y = make_multilabel_classification(n_samples=500, n_features=30, n_classes=2)\n",
    "\n",
    "# Original y is the categorical matrix\n",
    "# Change it to the label matrix\n",
    "y_label = np.sum(y, axis=-1)"
   ]
  },
  {
   "cell_type": "code",
   "execution_count": 2,
   "metadata": {},
   "outputs": [],
   "source": [
    "# Split it into train and test dataset\n",
    "train_data = X[:400]\n",
    "train_target = y_label[:400]\n",
    "\n",
    "test_data = X[400:500]\n",
    "test_target = y_label[400:500]"
   ]
  },
  {
   "cell_type": "code",
   "execution_count": 3,
   "metadata": {},
   "outputs": [
    {
     "name": "stdout",
     "output_type": "stream",
     "text": [
      "[[4. 0. 3. ... 0. 3. 4.]\n",
      " [4. 0. 4. ... 0. 0. 4.]\n",
      " [2. 1. 3. ... 0. 2. 2.]\n",
      " ...\n",
      " [1. 0. 2. ... 2. 3. 2.]\n",
      " [1. 0. 2. ... 0. 2. 2.]\n",
      " [4. 2. 5. ... 0. 3. 2.]]\n"
     ]
    }
   ],
   "source": [
    "# Shape(400, 30)\n",
    "# 30 is the feature\n",
    "# 400 is the data\n",
    "print(train_data)"
   ]
  },
  {
   "cell_type": "code",
   "execution_count": 4,
   "metadata": {},
   "outputs": [],
   "source": [
    "from sklearn.naive_bayes import MultinomialNB\n",
    "\n",
    "model = MultinomialNB().fit(train_data, train_target)"
   ]
  },
  {
   "cell_type": "code",
   "execution_count": 5,
   "metadata": {},
   "outputs": [
    {
     "data": {
      "text/plain": [
       "0.88"
      ]
     },
     "execution_count": 5,
     "metadata": {},
     "output_type": "execute_result"
    }
   ],
   "source": [
    "model.score(test_data, test_target)"
   ]
  },
  {
   "cell_type": "code",
   "execution_count": 6,
   "metadata": {},
   "outputs": [
    {
     "data": {
      "image/png": "[encoded data removed]",
      "text/plain": [
       "<Figure size 432x432 with 1 Axes>"
      ]
     },
     "metadata": {
      "needs_background": "light"
     },
     "output_type": "display_data"
    }
   ],
   "source": [
    "from sklearn.metrics import confusion_matrix\n",
    "import matplotlib.pyplot as plt\n",
    "import seaborn as sns\n",
    "\n",
    "plt.figure(figsize=(6, 6))\n",
    "mat = confusion_matrix(test_target, model.predict(test_data))\n",
    "sns.heatmap(mat.T, square=True, annot=True, fmt='d', cbar=False)"
   ]
  }
 ],
 "metadata": {
  "kernelspec": {
   "display_name": "Python 3",
   "language": "python",
   "name": "python3"
  },
  "language_info": {
   "codemirror_mode": {
    "name": "ipython",
    "version": 3
   },
   "file_extension": ".py",
   "mimetype": "text/x-python",
   "name": "python",
   "nbconvert_exporter": "python",
   "pygments_lexer": "ipython3",
   "version": "3.7.6"
  }
 },
 "nbformat": 4,
 "nbformat_minor": 4
}
